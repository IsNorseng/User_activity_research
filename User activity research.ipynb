{
 "cells": [
  {
   "cell_type": "code",
   "execution_count": null,
   "id": "6ba5cfa5",
   "metadata": {},
   "outputs": [],
   "source": [
    "Проект выполняется в интерактивном тренажере на платформе Яндекс.Практикума.\n",
    "Состоит из двух частей на 20 задач на составление запросов к базе данных (PostgreSQL) StackOverFlow за 2008 год. */\n"
   ]
  },
  {
   "cell_type": "code",
   "execution_count": null,
   "id": "47e39fa2",
   "metadata": {},
   "outputs": [],
   "source": [
    "1. Найдите количество вопросов, которые набрали больше 300 очков или как минимум 100 раз были добавлены в «Закладки». */\n",
    "\n",
    "SELECT COUNT(id)\n",
    "FROM stackoverflow.posts\n",
    "WHERE post_type_id = 1 AND (score > 300 OR favorites_count >= 100)\n",
    "GROUP BY post_type_id;"
   ]
  },
  {
   "cell_type": "code",
   "execution_count": null,
   "id": "b8b0b50d",
   "metadata": {},
   "outputs": [],
   "source": [
    "2. Сколько в среднем в день задавали вопросов с 1 по 18 ноября 2008 включительно? Результат округлите до целого числа. */\n",
    "\n",
    "SELECT ROUND(AVG(q.count), 0)\n",
    "FROM (\n",
    "      SELECT COUNT(id),\n",
    "             creation_date::date\n",
    "      FROM stackoverflow.posts\n",
    "      WHERE post_type_id = 1\n",
    "      GROUP BY creation_date::date\n",
    "      HAVING creation_date::date BETWEEN '2008-11-01' AND '2008-11-18') AS q;"
   ]
  },
  {
   "cell_type": "code",
   "execution_count": null,
   "id": "aac5f5ea",
   "metadata": {},
   "outputs": [],
   "source": [
    "3. Сколько пользователей получили значки сразу в день регистрации? Выведите количество уникальных пользователей. */\n",
    "\n",
    "SELECT COUNT(DISTINCT b.user_id)\n",
    "FROM stackoverflow.badges AS b\n",
    "JOIN stackoverflow.users AS u ON u.id=b.user_id\n",
    "WHERE u.creation_date::date = b.creation_date::date"
   ]
  },
  {
   "cell_type": "code",
   "execution_count": null,
   "id": "f3ef2364",
   "metadata": {},
   "outputs": [],
   "source": [
    "4. Сколько уникальных постов пользователя с именем Joel Coehoorn получили хотя бы один голос? */\n",
    "\n",
    "SELECT COUNT(cv.id)\n",
    "FROM (SELECT ps.id\n",
    "      FROM stackoverflow.posts AS ps\n",
    "      JOIN stackoverflow.votes AS v ON ps.id=v.post_id\n",
    "      JOIN stackoverflow.users AS u ON ps.user_id=u.id\n",
    "      WHERE u.display_name LIKE 'Joel Coehoorn' AND v.id > 0\n",
    "      GROUP BY ps.id) AS cv;"
   ]
  },
  {
   "cell_type": "code",
   "execution_count": null,
   "id": "b36aed7a",
   "metadata": {},
   "outputs": [],
   "source": [
    "5. Выгрузите все поля таблицы vote_types. Добавьте к таблице поле rank, в которое войдут номера записей в обратном порядке. \n",
    "Таблица должна быть отсортирована по полю id. */\n",
    "\n",
    "SELECT *,\n",
    "       ROW_NUMBER() OVER(ORDER BY id DESC) AS rank\n",
    "FROM stackoverflow.vote_types\n",
    "ORDER BY id;"
   ]
  },
  {
   "cell_type": "code",
   "execution_count": null,
   "id": "ff38e52e",
   "metadata": {},
   "outputs": [],
   "source": [
    "6. Отберите 10 пользователей, которые поставили больше всего голосов типа Close. \n",
    "Отобразите таблицу из двух полей: идентификатором пользователя и количеством голосов. \n",
    "Отсортируйте данные сначала по убыванию количества голосов, потом по убыванию значения идентификатора пользователя. */\n",
    "\n",
    "SELECT *\n",
    "FROM (SELECT v.user_id,\n",
    "             COUNT(vt.id) AS v_cnt\n",
    "      FROM stackoverflow.votes AS v\n",
    "      JOIN stackoverflow.vote_types AS vt ON vt.id=v.vote_type_id\n",
    "      WHERE vt.name LIKE 'Close'\n",
    "      GROUP BY v.user_id\n",
    "      ORDER BY v_cnt DESC\n",
    "      LIMIT 10) AS au\n",
    "ORDER BY au.v_cnt DESC, au.user_id DESC;"
   ]
  },
  {
   "cell_type": "code",
   "execution_count": null,
   "id": "3c794135",
   "metadata": {},
   "outputs": [],
   "source": [
    "7. Отберите 10 пользователей по количеству значков, полученных в период с 15 ноября по 15 декабря 2008 года включительно.\n",
    "Отобразите несколько полей: идентификатор пользователя, число значков, место в рейтинге — чем больше значков, тем выше рейтинг.\n",
    "Пользователям, которые набрали одинаковое количество значков, присвойте одно и то же место в рейтинге.\n",
    "Отсортируйте записи по количеству значков по убыванию, а затем по возрастанию значения идентификатора пользователя. */\n",
    "\n",
    "SELECT *,\n",
    "      DENSE_RANK() OVER (ORDER BY b.b_cnt DESC) AS rating\n",
    "FROM (SELECT user_id,\n",
    "             COUNT(id) AS b_cnt\n",
    "      FROM stackoverflow.badges\n",
    "      WHERE creation_date::date BETWEEN '2008-11-15' AND '2008-12-15' \n",
    "      GROUP BY user_id\n",
    "      ORDER BY b_cnt DESC, user_id LIMIT 10) as b;"
   ]
  },
  {
   "cell_type": "code",
   "execution_count": null,
   "id": "ec65adab",
   "metadata": {},
   "outputs": [],
   "source": [
    "8. Сколько в среднем очков получает пост каждого пользователя?\n",
    "Сформируйте таблицу из следующих полей: заголовок поста, идентификатор пользователя, число очков поста.\n",
    "Cреднее число очков пользователя за пост, округлённое до целого числа.\n",
    "Не учитывайте посты без заголовка, а также те, что набрали ноль очков. */\n",
    "\n",
    "WITH sc AS (\n",
    "SELECT ROUND(AVG(score)) AS avg_score,\n",
    "       user_id\n",
    "FROM stackoverflow.posts\n",
    "WHERE title IS NOT NULL AND score <> 0\n",
    "GROUP BY user_id)\n",
    "\n",
    "SELECT p.title,\n",
    "       sc.user_id,\n",
    "       p.score,\n",
    "       sc.avg_score\n",
    "FROM sc\n",
    "JOIN stackoverflow.posts AS p ON sc.user_id=p.user_id\n",
    "WHERE p.title IS NOT NULL AND p.score <> 0;"
   ]
  },
  {
   "cell_type": "code",
   "execution_count": null,
   "id": "6e8acec2",
   "metadata": {},
   "outputs": [],
   "source": [
    "9. Отобразите заголовки постов, которые были написаны пользователями, получившими более 1000 значков. \n",
    "Посты без заголовков не должны попасть в список. */\n",
    "\n",
    "SELECT title\n",
    "FROM stackoverflow.posts\n",
    "WHERE user_id IN (SELECT user_id\n",
    "                  FROM stackoverflow.badges\n",
    "                  GROUP BY user_id\n",
    "                  HAVING COUNT(id) >1000)\n",
    "              AND title IS NOT NULL;"
   ]
  },
  {
   "cell_type": "code",
   "execution_count": null,
   "id": "b838a5dd",
   "metadata": {},
   "outputs": [],
   "source": [
    "10. Напишите запрос, который выгрузит данные о пользователях из США (англ. United States).\n",
    "Разделите пользователей на три группы в зависимости от количества просмотров их профилей:\n",
    "пользователям с числом просмотров больше либо равным 350 присвойте группу 1;\n",
    "пользователям с числом просмотров меньше 350, но больше либо равно 100 — группу 2;\n",
    "пользователям с числом просмотров меньше 100 — группу 3.\n",
    "Отобразите в итоговой таблице идентификатор пользователя, количество просмотров профиля и группу. \n",
    "Пользователи с нулевым количеством просмотров не должны войти в итоговую таблицу. */\n",
    "\n",
    "SELECT id,\n",
    "       views,\n",
    "       CASE\n",
    "          WHEN views >= 350 THEN 1\n",
    "          WHEN views < 100 THEN 3\n",
    "          ELSE 2\n",
    "       END AS group\n",
    "FROM stackoverflow.users\n",
    "WHERE location LIKE '%United States%' AND views > 0;"
   ]
  },
  {
   "cell_type": "code",
   "execution_count": null,
   "id": "134bb127",
   "metadata": {},
   "outputs": [],
   "source": [
    " 11. Дополните предыдущий запрос. \n",
    "Отобразите лидеров каждой группы — пользователей, которые набрали максимальное число просмотров в своей группе. \n",
    "Выведите поля с идентификатором пользователя, группой и количеством просмотров. \n",
    "Отсортируйте таблицу по убыванию просмотров, а затем по возрастанию значения идентификатора. */\n",
    "\n",
    "WITH grp AS (SELECT g.id,\n",
    "                    g.views,\n",
    "                    g.group,\n",
    "                    MAX(g.views) OVER (PARTITION BY g.group) AS max     \n",
    "             FROM (SELECT id,\n",
    "                          views,\n",
    "                          CASE\n",
    "                             WHEN views >= 350 THEN 1\n",
    "                             WHEN views < 100 THEN 3\n",
    "                             ELSE 2\n",
    "                          END AS group\n",
    "                   FROM stackoverflow.users\n",
    "                   WHERE location LIKE '%United States%' AND views > 0) as g\n",
    "              )\n",
    "  \n",
    "SELECT grp.id, \n",
    "       grp.views,  \n",
    "       grp.group\n",
    "FROM grp\n",
    "WHERE grp.views = grp.max\n",
    "ORDER BY grp.views DESC, grp.id;"
   ]
  },
  {
   "cell_type": "code",
   "execution_count": null,
   "id": "44f815c9",
   "metadata": {},
   "outputs": [],
   "source": [
    "12. Посчитайте ежедневный прирост новых пользователей в ноябре 2008 года. \n",
    "Сформируйте таблицу с полями: номер дня, число пользователей, зарегистрированных в этот день, сумму пользователей с накоплением. */\n",
    "\n",
    "SELECT *,\n",
    "       SUM(uc.cnt_reg) OVER (ORDER BY uc.days) as cnt_users\n",
    "FROM (SELECT EXTRACT(DAY FROM creation_date::date) AS days,\n",
    "             COUNT(id) AS cnt_reg\n",
    "      FROM stackoverflow.users\n",
    "      WHERE creation_date::date BETWEEN '2008-11-01' AND '2008-11-30'\n",
    "      GROUP BY EXTRACT(DAY FROM creation_date::date)\n",
    "      ) as uc;"
   ]
  },
  {
   "cell_type": "code",
   "execution_count": null,
   "id": "a2189005",
   "metadata": {},
   "outputs": [],
   "source": [
    "13. Для каждого пользователя, который написал хотя бы один пост, найдите интервал между регистрацией и временем создания первого поста. \n",
    "Отобразите: идентификатор пользователя, разницу во времени между регистрацией и первым постом. */\n",
    "\n",
    "WITH dt AS (SELECT DISTINCT user_id,\n",
    "                            MIN(creation_date) OVER (PARTITION BY user_id) AS min_dt      \n",
    "            FROM stackoverflow.posts)\n",
    "\n",
    "SELECT dt.user_id,\n",
    "       (dt.min_dt - u.creation_date) AS diff\n",
    "FROM stackoverflow.users AS u \n",
    "JOIN dt ON  u.id = dt.user_id;"
   ]
  },
  {
   "cell_type": "code",
   "execution_count": null,
   "id": "b29a7118",
   "metadata": {},
   "outputs": [],
   "source": [
    "-- Вторая часть проекта --"
   ]
  },
  {
   "cell_type": "code",
   "execution_count": null,
   "id": "3c05493c",
   "metadata": {},
   "outputs": [],
   "source": [
    "1. Выведите общую сумму просмотров постов за каждый месяц 2008 года. \n",
    "Если данных за какой-либо месяц в базе нет, такой месяц можно пропустить. \n",
    "Результат отсортируйте по убыванию общего количества просмотров. */\n",
    "\n",
    "SELECT DATE_TRUNC('month', creation_date)::date AS mnth,\n",
    "       SUM(views_count) \n",
    "FROM stackoverflow.posts\n",
    "GROUP BY DATE_TRUNC('month', creation_date)\n",
    "ORDER BY SUM(views_count) DESC;\n"
   ]
  },
  {
   "cell_type": "code",
   "execution_count": null,
   "id": "3901e043",
   "metadata": {},
   "outputs": [],
   "source": [
    "2. Выведите имена самых активных пользователей, которые в первый месяц после регистрации (включая день регистрации) дали больше 100 ответов. \n",
    "Вопросы, которые задавали пользователи, не учитывайте. \n",
    "Для каждого имени пользователя выведите количество уникальных значений user_id. \n",
    "Отсортируйте результат по полю с именами в лексикографическом порядке. */\n",
    "\n",
    "SELECT u.display_name,\n",
    "       COUNT(DISTINCT p.user_id)\n",
    "FROM stackoverflow.posts AS p\n",
    "JOIN stackoverflow.users AS u ON p.user_id=u.id\n",
    "JOIN stackoverflow.post_types AS pt ON pt.id=p.post_type_id\n",
    "WHERE p.creation_date::date BETWEEN u.creation_date::date AND (u.creation_date::date + INTERVAL '1 month') \n",
    "      AND pt.type LIKE '%Answer%'\n",
    "GROUP BY u.display_name\n",
    "HAVING COUNT(p.id) > 100\n",
    "ORDER BY u.display_name;"
   ]
  },
  {
   "cell_type": "code",
   "execution_count": null,
   "id": "eacf39d3",
   "metadata": {},
   "outputs": [],
   "source": [
    "3. Выведите количество постов за 2008 год по месяцам. \n",
    "Отберите посты от пользователей, которые зарегистрировались в сентябре 2008 года и сделали хотя бы один пост в декабре того же года. \n",
    "Отсортируйте таблицу по значению месяца по убыванию. */\n",
    "\n",
    "WITH users AS (SELECT u.id\n",
    "               FROM stackoverflow.posts AS p\n",
    "               JOIN stackoverflow.users AS u ON p.user_id=u.id\n",
    "               WHERE DATE_TRUNC('month', u.creation_date)::date = '2008-09-01' \n",
    "                   AND DATE_TRUNC('month', p.creation_date)::date = '2008-12-01'\n",
    "               GROUP BY u.id\n",
    "               HAVING COUNT(p.id) > 0)\n",
    "\n",
    "SELECT COUNT(p.id),\n",
    "       DATE_TRUNC('month', p.creation_date)::date\n",
    "FROM stackoverflow.posts AS p\n",
    "WHERE p.user_id IN (SELECT *\n",
    "                    FROM users)\n",
    "      AND DATE_TRUNC('year', p.creation_date)::date = '2008-01-01'\n",
    "GROUP BY DATE_TRUNC('month', p.creation_date)::date\n",
    "ORDER BY DATE_TRUNC('month', p.creation_date)::date DESC;"
   ]
  },
  {
   "cell_type": "code",
   "execution_count": null,
   "id": "6059daaf",
   "metadata": {},
   "outputs": [],
   "source": [
    "4. Используя данные о постах, выведите несколько полей:\n",
    "- идентификатор пользователя, который написал пост;\n",
    "- дата создания поста;\n",
    "- количество просмотров у текущего поста;\n",
    "- сумму просмотров постов автора с накоплением.\n",
    "Данные в таблице должны быть отсортированы по возрастанию идентификаторов пользователей, а данные об одном и том же пользователе — по возрастанию даты создания поста. */\n",
    "\n",
    "SELECT user_id,\n",
    "       creation_date,\n",
    "       views_count,\n",
    "       SUM(views_count) OVER (PARTITION BY user_id ORDER BY creation_date)\n",
    "FROM stackoverflow.posts;"
   ]
  },
  {
   "cell_type": "code",
   "execution_count": null,
   "id": "483270dd",
   "metadata": {},
   "outputs": [],
   "source": [
    " 5. Сколько в среднем дней в период с 1 по 7 декабря 2008 года включительно пользователи взаимодействовали с платформой? \n",
    "Для каждого пользователя отберите дни, в которые он или она опубликовали хотя бы один пост. \n",
    "Нужно получить одно целое число — не забудьте округлить результат. */\n",
    "\n",
    "WITH ad AS (SELECT user_id,\n",
    "                   COUNT(DISTINCT creation_date::date)  AS cnt\n",
    "            FROM stackoverflow.posts\n",
    "            WHERE creation_date::date BETWEEN '2008-12-01' AND '2008-12-07' \n",
    "            GROUP BY user_id)\n",
    "\n",
    "SELECT ROUND(AVG(ad.cnt))\n",
    "FROM ad;"
   ]
  },
  {
   "cell_type": "code",
   "execution_count": null,
   "id": "914e316b",
   "metadata": {},
   "outputs": [],
   "source": [
    "6. На сколько процентов менялось количество постов ежемесячно с 1 сентября по 31 декабря 2008 года? \n",
    "Отобразите таблицу со следующими полями:\n",
    "- номер месяца;\n",
    "- количество постов за месяц;\n",
    "- процент, который показывает, насколько изменилось количество постов в текущем месяце по сравнению с предыдущим.\n",
    "Если постов стало меньше, значение процента должно быть отрицательным, если больше — положительным. \n",
    "Округлите значение процента до двух знаков после запятой. */\n",
    "\n",
    "WITH month_post AS (SELECT EXTRACT(MONTH from creation_date::date) AS month,\n",
    "                    COUNT(DISTINCT id)    \n",
    "                    FROM stackoverflow.posts\n",
    "                    WHERE creation_date::date BETWEEN '2008-09-01' AND '2008-12-31'\n",
    "                    GROUP BY month)\n",
    "\n",
    "SELECT *,\n",
    "       ROUND(((count::numeric / LAG(count) OVER (ORDER BY month)) - 1) * 100, 2) AS user_growth\n",
    "FROM month_post;"
   ]
  },
  {
   "cell_type": "code",
   "execution_count": null,
   "id": "248a605a",
   "metadata": {},
   "outputs": [],
   "source": [
    "7.Выгрузите данные активности пользователя, который опубликовал больше всего постов за всё время.\n",
    "Выведите данные за октябрь 2008 года в таком виде:\n",
    "- номер недели;\n",
    "- дата и время последнего поста, опубликованного на этой неделе. */\n",
    "\n",
    "WITH user_post AS (SELECT user_id,\n",
    "                   COUNT(DISTINCT id) AS cnt\n",
    "                   FROM stackoverflow.posts\n",
    "                   GROUP BY user_id\n",
    "                   ORDER BY cnt DESC\n",
    "                   LIMIT 1),\n",
    "\n",
    "     dtt AS (SELECT p.user_id,\n",
    "             p.creation_date,\n",
    "             extract('week' from p.creation_date) AS week_number\n",
    "             FROM stackoverflow.posts AS p\n",
    "             JOIN user_post ON user_post.user_id = p.user_id\n",
    "             WHERE DATE_TRUNC('month', p.creation_date)::date = '2008-10-01')\n",
    "\n",
    "SELECT DISTINCT week_number::numeric,\n",
    "       MAX(creation_date) OVER (PARTITION BY week_number) AS post_dt\n",
    "FROM dtt\n",
    "ORDER BY week_number;"
   ]
  },
  {
   "cell_type": "code",
   "execution_count": null,
   "id": "9f012d46",
   "metadata": {},
   "outputs": [],
   "source": []
  }
 ],
 "metadata": {
  "kernelspec": {
   "display_name": "Python 3 (ipykernel)",
   "language": "python",
   "name": "python3"
  },
  "language_info": {
   "codemirror_mode": {
    "name": "ipython",
    "version": 3
   },
   "file_extension": ".py",
   "mimetype": "text/x-python",
   "name": "python",
   "nbconvert_exporter": "python",
   "pygments_lexer": "ipython3",
   "version": "3.11.5"
  }
 },
 "nbformat": 4,
 "nbformat_minor": 5
}
